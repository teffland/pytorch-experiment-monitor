{
 "cells": [
  {
   "cell_type": "markdown",
   "metadata": {},
   "source": [
    "# pytorch monitor walkthrough\n",
    "\n",
    "This notebook serves as an example and test of `pytorch-monitor`.\n",
    "\n",
    "Pytorch is great. Dynamic computation and module composition make rapid prototyping of new deep learning architectures relatively simple. But as many machine learning engineers know, implementation time amounts to a small fraction of development relative to debugging and train/test evaluation.\n",
    "\n",
    "For new architectures, we often want to monitor various metrics during training and testing:\n",
    "* **Model parameter values:** Very large or skewed weight and bias distributions often are a sign of overfitting and small values can be due to underfitting or overregularization.\n",
    "* **Parameter gradient values:** Viewing gradient distributions for model parameters can shed light on vanishing and exploding gradients.  \n",
    "* **Model parameter update dynamics:** Understanding how model parameters change as a result of an optimization step can shed light on optimization issues. Consistently small parameter changes can indicate optimization is suffering from poor conditioning and large update values (especially late in training) often coincide with model performance divergences.\n",
    "* **Intermediate computation activations and gradients:** For deeper or more complicated architectures, it's often useful to monitor intermediate model activation (forward) and jacobian (backward) distributions. This can be crucial in identifying problematic computation nodes and exploding/vanishing gradients.\n",
    "* **Visualization of computation graph:** Visually inspecting the computation graph can be extremely useful in veryifying that your implementation plays out the same way as you drew it on the whiteboard.\n",
    "\n",
    "To monitor these metrics we need:\n",
    "1. Code that indicates the parameters, computations, and gradients to monitor within the model\n",
    "2. Code that writes summaries of these marked computation nodes efficiently to logfiles\n",
    "3. Code that provides an interface for inspecting the logs\n",
    "\n",
    "Tensorboard==1.6 and tensorboardX are great tools for (2) and (3), but the use of tensorboardX for writing summaries of all useful computations (as in (1)) can still be timeconsuming.\n",
    "\n",
    "This is where pytorch-monitor comes in. It's a simple library which aims to do two things:\n",
    "1. Initialize and organize experiment logs easily while encouraging reproducability\n",
    "2. Introspect initialized pytorch `Module`s and endow them with the necessary info to monitor themselves.\n",
    "\n",
    "Our goal is for this process to be fast with sensible defaults, but flexible enough to allow for changes that meet user needs. With pytorch-monitor you can be off the ground monitoring your network behavior in as little as 2 lines of code."
   ]
  },
  {
   "cell_type": "code",
   "execution_count": 1,
   "metadata": {},
   "outputs": [],
   "source": [
    "from pytorch_monitor import init_experiment, monitor_module"
   ]
  },
  {
   "cell_type": "markdown",
   "metadata": {},
   "source": [
    "## Example 1: The Basics\n",
    "\n"
   ]
  },
  {
   "cell_type": "markdown",
   "metadata": {},
   "source": [
    "We start by initializing the experiment. "
   ]
  },
  {
   "cell_type": "code",
   "execution_count": 2,
   "metadata": {},
   "outputs": [
    {
     "data": {
      "text/plain": [
       "{'title': 'Test Monitor',\n",
       " 'log_dir': 'test',\n",
       " 'run_name': 'Apr-30-18@23:26:35-toms-mbp-2.lan',\n",
       " 'run_dir': 'test/Apr-30-18@23:26:35-toms-mbp-2.lan',\n",
       " 'tag': 'Experiment Config: Test Monitor :: Apr-30-18@23:26:35\\n'}"
      ]
     },
     "execution_count": 2,
     "metadata": {},
     "output_type": "execute_result"
    }
   ],
   "source": [
    "config = {'title':'Test Monitor',\n",
    "          'log_dir':'test'}\n",
    "writer, config = init_experiment(config)\n",
    "config"
   ]
  },
  {
   "cell_type": "markdown",
   "metadata": {},
   "source": [
    "A lot just happened:\n",
    "\n",
    "We've taken the experiment config dictionary and does the following:\n",
    "1. Creates a `run_name`\n",
    "2. Creates a directory `run_name` in the path `log_dir`\n",
    "3. If you use git to track your code, automatically commit the curent git repository. A reproducible snapshot of the code used to run the experiment. \n",
    "4. Initializes a tensorboardX `SummaryWriter`\n",
    "5. Writes a tensorboard text log that logs all initial experiment metadata and configuration, such as start time, host name, random seed, and hyperparameters. This can be very useful reference when comparing multiple runs from tensorboard and drawing conclusions.\n",
    "6. If a `random_seed` is provided, it sets the seed for python, numpy, and torch all at once.\n",
    "7. Dumps the config dictionary to file in the `log_dir` as `config.json`\n",
    "8. Returns the writer and config dictionary, augmented with the `run_name`, `run_dir`, and `tag`.\n",
    "\n",
    "I've found this initialization strategy to be comprehensive enough for my needs, but I'm sure it could be better. Submit an issue or pull request if you have suggestions!"
   ]
  },
  {
   "cell_type": "markdown",
   "metadata": {},
   "source": [
    "Next we'll create a simple nonlinear 1-d regression in pytorch. It will take a scalar input x, run it through a nonlinear layer, and produce a scalar output.\n",
    "\n",
    "We'll train it to predict the sine function. $y = sin(x)$"
   ]
  },
  {
   "cell_type": "code",
   "execution_count": 3,
   "metadata": {},
   "outputs": [
    {
     "name": "stdout",
     "output_type": "stream",
     "text": [
      "0 :fb 1 :r encode.weight\n",
      "r encode.bias\n",
      "r decode.weight\n",
      "r decode.bias\n",
      "2 :3 :4 :5 :6 :7 :8 :9 :10 :11 :12 :13 :14 :15 :16 :17 :18 :19 :20 :21 :22 :23 :24 :25 :26 :27 :28 :29 :30 :31 :32 :33 :34 :35 :36 :37 :38 :39 :40 :41 :42 :43 :44 :45 :46 :47 :48 :49 :50 :51 :52 :53 :54 :55 :56 :57 :58 :59 :60 :61 :62 :63 :64 :65 :66 :67 :68 :69 :70 :71 :72 :73 :74 :75 :76 :77 :78 :79 :80 :81 :82 :83 :84 :85 :86 :87 :88 :89 :90 :91 :92 :93 :94 :95 :96 :97 :98 :99 :100 :101 :102 :103 :104 :105 :106 :107 :108 :109 :110 :111 :112 :113 :114 :115 :116 :117 :118 :119 :120 :121 :122 :123 :124 :125 :126 :127 :128 :129 :130 :131 :132 :133 :134 :135 :136 :137 :138 :139 :140 :141 :142 :143 :144 :145 :146 :147 :148 :149 :150 :151 :152 :153 :154 :155 :156 :157 :158 :159 :160 :161 :162 :163 :164 :165 :166 :167 :168 :169 :170 :171 :172 :173 :174 :175 :176 :177 :178 :179 :180 :181 :182 :183 :184 :185 :186 :187 :188 :189 :190 :191 :192 :193 :194 :195 :196 :197 :198 :199 :200 :201 :202 :203 :204 :205 :206 :207 :208 :209 :210 :211 :212 :213 :214 :215 :216 :217 :218 :219 :220 :221 :222 :223 :224 :225 :226 :227 :228 :229 :230 :231 :232 :233 :234 :235 :236 :237 :238 :239 :240 :241 :242 :243 :244 :245 :246 :247 :248 :249 :250 :251 :252 :253 :254 :255 :256 :257 :258 :259 :260 :261 :262 :263 :264 :265 :266 :267 :268 :269 :270 :271 :272 :273 :274 :275 :276 :277 :278 :279 :280 :281 :282 :283 :284 :285 :286 :287 :288 :289 :290 :291 :292 :293 :294 :295 :296 :297 :298 :299 :300 :301 :302 :303 :304 :305 :306 :307 :308 :309 :310 :311 :312 :313 :314 :315 :316 :317 :318 :319 :320 :321 :322 :323 :324 :325 :326 :327 :328 :329 :330 :331 :332 :333 :334 :335 :336 :337 :338 :339 :340 :341 :342 :343 :344 :345 :346 :347 :348 :349 :350 :351 :352 :353 :354 :355 :356 :357 :358 :359 :360 :361 :362 :363 :364 :365 :366 :367 :368 :369 :370 :371 :372 :373 :374 :375 :376 :377 :378 :379 :380 :381 :382 :383 :384 :385 :386 :387 :388 :389 :390 :391 :392 :393 :394 :395 :396 :397 :398 :399 :400 :401 :402 :403 :404 :405 :406 :407 :408 :409 :410 :411 :412 :413 :414 :415 :416 :417 :418 :419 :420 :421 :422 :423 :424 :425 :426 :427 :428 :429 :430 :431 :432 :433 :434 :435 :436 :437 :438 :439 :440 :441 :442 :443 :444 :445 :446 :447 :448 :449 :450 :451 :452 :453 :454 :455 :456 :457 :458 :459 :460 :461 :462 :463 :464 :465 :466 :467 :468 :469 :470 :471 :472 :473 :474 :475 :476 :477 :478 :479 :480 :481 :482 :483 :484 :485 :486 :487 :488 :489 :490 :491 :492 :493 :494 :495 :496 :497 :498 :499 :500 :501 :502 :503 :504 :505 :506 :507 :508 :509 :510 :511 :512 :513 :514 :515 :516 :517 :518 :519 :520 :521 :522 :523 :524 :525 :526 :527 :528 :529 :530 :531 :532 :533 :534 :535 :536 :537 :538 :539 :540 :541 :542 :543 :544 :545 :546 :547 :548 :549 :550 :551 :552 :553 :554 :555 :556 :557 :558 :559 :560 :561 :562 :563 :564 :565 :566 :567 :568 :569 :570 :571 :572 :573 :574 :575 :576 :577 :578 :579 :580 :581 :582 :583 :584 :585 :586 :587 :588 :589 :590 :591 :592 :593 :594 :595 :596 :597 :598 :599 :600 :601 :602 :603 :604 :605 :606 :607 :608 :609 :610 :611 :612 :613 :614 :615 :616 :617 :618 :619 :620 :621 :622 :623 :624 :625 :626 :627 :628 :629 :630 :631 :632 :633 :634 :635 :636 :637 :638 :639 :640 :641 :"
     ]
    },
    {
     "ename": "KeyboardInterrupt",
     "evalue": "",
     "output_type": "error",
     "traceback": [
      "\u001b[0;31m---------------------------------------------------------------------------\u001b[0m",
      "\u001b[0;31mKeyboardInterrupt\u001b[0m                         Traceback (most recent call last)",
      "\u001b[0;32m<ipython-input-3-a8a48053c770>\u001b[0m in \u001b[0;36m<module>\u001b[0;34m()\u001b[0m\n\u001b[1;32m     44\u001b[0m     \u001b[0mloss\u001b[0m \u001b[0;34m=\u001b[0m \u001b[0;34m(\u001b[0m\u001b[0;34m(\u001b[0m\u001b[0myhat\u001b[0m \u001b[0;34m-\u001b[0m \u001b[0my\u001b[0m\u001b[0;34m)\u001b[0m\u001b[0;34m**\u001b[0m\u001b[0;36m2\u001b[0m\u001b[0;34m)\u001b[0m\u001b[0;34m.\u001b[0m\u001b[0mmean\u001b[0m\u001b[0;34m(\u001b[0m\u001b[0;34m)\u001b[0m\u001b[0;34m\u001b[0m\u001b[0m\n\u001b[1;32m     45\u001b[0m     \u001b[0moptimizer\u001b[0m\u001b[0;34m.\u001b[0m\u001b[0mzero_grad\u001b[0m\u001b[0;34m(\u001b[0m\u001b[0;34m)\u001b[0m\u001b[0;34m\u001b[0m\u001b[0m\n\u001b[0;32m---> 46\u001b[0;31m     \u001b[0mloss\u001b[0m\u001b[0;34m.\u001b[0m\u001b[0mbackward\u001b[0m\u001b[0;34m(\u001b[0m\u001b[0;34m)\u001b[0m\u001b[0;34m\u001b[0m\u001b[0m\n\u001b[0m\u001b[1;32m     47\u001b[0m     \u001b[0moptimizer\u001b[0m\u001b[0;34m.\u001b[0m\u001b[0mstep\u001b[0m\u001b[0;34m(\u001b[0m\u001b[0;34m)\u001b[0m\u001b[0;34m\u001b[0m\u001b[0m\n\u001b[1;32m     48\u001b[0m     \u001b[0mlosses\u001b[0m\u001b[0;34m.\u001b[0m\u001b[0mappend\u001b[0m\u001b[0;34m(\u001b[0m\u001b[0mloss\u001b[0m\u001b[0;34m.\u001b[0m\u001b[0mitem\u001b[0m\u001b[0;34m(\u001b[0m\u001b[0;34m)\u001b[0m\u001b[0;34m)\u001b[0m\u001b[0;34m\u001b[0m\u001b[0m\n",
      "\u001b[0;32m~/virtualenvs/pytorch-monitor/lib/python3.6/site-packages/torch/tensor.py\u001b[0m in \u001b[0;36mbackward\u001b[0;34m(self, gradient, retain_graph, create_graph)\u001b[0m\n\u001b[1;32m     91\u001b[0m                 \u001b[0mproducts\u001b[0m\u001b[0;34m.\u001b[0m \u001b[0mDefaults\u001b[0m \u001b[0mto\u001b[0m\u001b[0;31m \u001b[0m\u001b[0;31m`\u001b[0m\u001b[0;31m`\u001b[0m\u001b[0;32mFalse\u001b[0m\u001b[0;31m`\u001b[0m\u001b[0;31m`\u001b[0m\u001b[0;34m.\u001b[0m\u001b[0;34m\u001b[0m\u001b[0m\n\u001b[1;32m     92\u001b[0m         \"\"\"\n\u001b[0;32m---> 93\u001b[0;31m         \u001b[0mtorch\u001b[0m\u001b[0;34m.\u001b[0m\u001b[0mautograd\u001b[0m\u001b[0;34m.\u001b[0m\u001b[0mbackward\u001b[0m\u001b[0;34m(\u001b[0m\u001b[0mself\u001b[0m\u001b[0;34m,\u001b[0m \u001b[0mgradient\u001b[0m\u001b[0;34m,\u001b[0m \u001b[0mretain_graph\u001b[0m\u001b[0;34m,\u001b[0m \u001b[0mcreate_graph\u001b[0m\u001b[0;34m)\u001b[0m\u001b[0;34m\u001b[0m\u001b[0m\n\u001b[0m\u001b[1;32m     94\u001b[0m \u001b[0;34m\u001b[0m\u001b[0m\n\u001b[1;32m     95\u001b[0m     \u001b[0;32mdef\u001b[0m \u001b[0mregister_hook\u001b[0m\u001b[0;34m(\u001b[0m\u001b[0mself\u001b[0m\u001b[0;34m,\u001b[0m \u001b[0mhook\u001b[0m\u001b[0;34m)\u001b[0m\u001b[0;34m:\u001b[0m\u001b[0;34m\u001b[0m\u001b[0m\n",
      "\u001b[0;32m~/virtualenvs/pytorch-monitor/lib/python3.6/site-packages/torch/autograd/__init__.py\u001b[0m in \u001b[0;36mbackward\u001b[0;34m(tensors, grad_tensors, retain_graph, create_graph, grad_variables)\u001b[0m\n\u001b[1;32m     87\u001b[0m     Variable._execution_engine.run_backward(\n\u001b[1;32m     88\u001b[0m         \u001b[0mtensors\u001b[0m\u001b[0;34m,\u001b[0m \u001b[0mgrad_tensors\u001b[0m\u001b[0;34m,\u001b[0m \u001b[0mretain_graph\u001b[0m\u001b[0;34m,\u001b[0m \u001b[0mcreate_graph\u001b[0m\u001b[0;34m,\u001b[0m\u001b[0;34m\u001b[0m\u001b[0m\n\u001b[0;32m---> 89\u001b[0;31m         allow_unreachable=True)  # allow_unreachable flag\n\u001b[0m\u001b[1;32m     90\u001b[0m \u001b[0;34m\u001b[0m\u001b[0m\n\u001b[1;32m     91\u001b[0m \u001b[0;34m\u001b[0m\u001b[0m\n",
      "\u001b[0;31mKeyboardInterrupt\u001b[0m: "
     ]
    },
    {
     "data": {
      "image/png": "[encoded data removed]",
      "text/plain": [
       "<Figure size 864x288 with 2 Axes>"
      ]
     },
     "metadata": {},
     "output_type": "display_data"
    }
   ],
   "source": [
    "import torch\n",
    "import torch.nn as nn\n",
    "import torch.nn.functional as F\n",
    "import torch.optim as optim\n",
    "\n",
    "import matplotlib.pyplot as plt\n",
    "%matplotlib inline\n",
    "import seaborn as sb\n",
    "sb.set()\n",
    "\n",
    "# Declare the model\n",
    "class Model(nn.Module):\n",
    "    def __init__(self, hidden_dim):\n",
    "        super().__init__()\n",
    "        self.encode = nn.Linear(1, hidden_dim)\n",
    "        self.decode = nn.Linear(hidden_dim, 1)\n",
    "        \n",
    "    def forward(self, x):\n",
    "        h = F.tanh(self.encode(x))\n",
    "        self.monitor('h', h, track_data=True, track_grad=True)\n",
    "        return self.decode(h)\n",
    "\n",
    "# Get inputs and gold outputs\n",
    "x = 2 * 3.1415 * torch.rand(100,1)\n",
    "y = x.sin()\n",
    "\n",
    "# Setup the model and optimizer to have 10 hidden units\n",
    "model = Model(10)\n",
    "monitor_module(model, writer, track_update_ratio=True)\n",
    "optimizer  = optim.SGD(model.parameters(), lr = 0.01, momentum=0.9)\n",
    "\n",
    "_, (ax0, ax1) = plt.subplots(1,2, figsize=(12,4))\n",
    "# Train the model for 4001 steps, recording its predictions every 2000\n",
    "losses = []\n",
    "ax1.scatter(x.numpy(), y.numpy(), label='Truth', s=25, marker='^')\n",
    "epochs = 2001\n",
    "for i in range(epochs):\n",
    "    print(i,':', end='')\n",
    "    if i % 1000 == 0:\n",
    "        model.monitoring(True)\n",
    "    else:\n",
    "        model.monitoring(False)\n",
    "    yhat = model(x)\n",
    "    loss = ((yhat - y)**2).mean()\n",
    "    optimizer.zero_grad()\n",
    "    loss.backward()\n",
    "    optimizer.step()\n",
    "    losses.append(loss.item())\n",
    "    writer.add_scalar('train loss', loss.item(), i)\n",
    "    \n",
    "    if i % (epochs//2) == 0:\n",
    "        ax1.scatter(x.numpy(), yhat.detach().numpy(), label='Step {}'.format(i), s=20)\n",
    "\n",
    "ax0.plot(list(range(len(losses))), losses)\n",
    "ax0.set_title('Loss during training')\n",
    "ax1.set_title('Predictions During Training')\n",
    "_ = ax1.legend()"
   ]
  },
  {
   "cell_type": "code",
   "execution_count": null,
   "metadata": {},
   "outputs": [],
   "source": []
  }
 ],
 "metadata": {
  "kernelspec": {
   "display_name": "Python 3",
   "language": "python",
   "name": "python3"
  },
  "language_info": {
   "codemirror_mode": {
    "name": "ipython",
    "version": 3
   },
   "file_extension": ".py",
   "mimetype": "text/x-python",
   "name": "python",
   "nbconvert_exporter": "python",
   "pygments_lexer": "ipython3",
   "version": "3.6.3"
  }
 },
 "nbformat": 4,
 "nbformat_minor": 2
}
