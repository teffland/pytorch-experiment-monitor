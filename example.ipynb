{
 "cells": [
  {
   "cell_type": "markdown",
   "metadata": {},
   "source": [
    "# Pytorch-Monitor walkthrough\n",
    "\n",
    "This notebook serves as an example and test of `pytorch-monitor`.\n",
    "\n",
    "Pytorch is great. Dynamic computation and module composition make rapid prototyping of new deep learning architectures relatively simple. But as many machine learning engineers know, implementation time amounts to a small fraction of development relative to debugging and train/test evaluation.\n",
    "\n",
    "For new architectures, we often want to monitor various metrics during training and testing:\n",
    "* **Model parameter values:** Very large or skewed weight and bias distributions often are a sign of overfitting and small values can be due to underfitting or overregularization.\n",
    "* **Parameter gradient values:** Viewing gradient distributions for model parameters can shed light on vanishing and exploding gradients.  \n",
    "* **Model parameter update dynamics:** Understanding how model parameters change as a result of an optimization step can shed light on optimization issues. Consistently small parameter changes can indicate optimization is suffering from poor conditioning and large update values (especially late in training) often coincide with model performance divergences.\n",
    "* **Intermediate computation activations and gradients:** For deeper or more complicated architectures, it's often useful to monitor intermediate model activation (forward) and jacobian (backward) distributions. This can be crucial in identifying problematic computation nodes and exploding/vanishing gradients.\n",
    "* **Visualization of computation graph:** Visually inspecting the computation graph can be extremely useful in veryifying that your implementation plays out the same way as you drew it on the whiteboard.\n",
    "\n",
    "To monitor these metrics we need:\n",
    "1. Code that indicates the parameters, computations, and gradients to monitor within the model\n",
    "2. Code that writes summaries of these marked computation nodes efficiently to logfiles\n",
    "3. Code that provides an interface for inspecting the logs\n",
    "\n",
    "Tensorboard==1.6 and tensorboardX are great tools for (2) and (3), but the use of tensorboardX for writing summaries of all useful computations (as in (1)) can still be timeconsuming.\n",
    "\n",
    "This is where pytorch-monitor comes in. It's a simple library which aims to do two things:\n",
    "1. Initialize and organize experiment logs easily while encouraging reproducability\n",
    "2. Introspect initialized pytorch `Module`s and endow them with the necessary info to monitor themselves.\n",
    "\n",
    "Our goal is for this process to be fast with sensible defaults, but flexible enough to allow for changes that meet user needs. With pytorch-monitor you can be off the ground monitoring your network behavior in as little as 2 lines of code."
   ]
  },
  {
   "cell_type": "code",
   "execution_count": 1,
   "metadata": {},
   "outputs": [],
   "source": [
    "from pytorch_monitor import init_experiment, monitor_module"
   ]
  },
  {
   "cell_type": "markdown",
   "metadata": {},
   "source": [
    "## Example 1: The Basics\n",
    "\n"
   ]
  },
  {
   "cell_type": "markdown",
   "metadata": {},
   "source": [
    "#### Initializing the experiment\n",
    "\n",
    "We start by initializing the experiment. Conceptually, an experiment is just the execution of a program and the initial conditions for the program (the `config`)."
   ]
  },
  {
   "cell_type": "code",
   "execution_count": 2,
   "metadata": {},
   "outputs": [
    {
     "data": {
      "text/plain": [
       "{'title': 'Test Monitor',\n",
       " 'log_dir': 'test',\n",
       " 'run_name': 'May-01-18@11:00:40-dyn-129-236-234-33.dyn.columbia.edu',\n",
       " 'run_dir': 'test/May-01-18@11:00:40-dyn-129-236-234-33.dyn.columbia.edu',\n",
       " 'tag': 'Experiment Config: Test Monitor :: May-01-18@11:00:40\\n'}"
      ]
     },
     "execution_count": 2,
     "metadata": {},
     "output_type": "execute_result"
    }
   ],
   "source": [
    "config = {'title':'Test Monitor',\n",
    "          'log_dir':'test'}\n",
    "writer, config = init_experiment(config)\n",
    "config"
   ]
  },
  {
   "cell_type": "markdown",
   "metadata": {},
   "source": [
    "A lot just happened:\n",
    "\n",
    "We've taken the experiment config dictionary and done the following:\n",
    "1. Created a `run_name`\n",
    "2. Created a directory `run_name` in the path `log_dir`\n",
    "3. If you use git to track your code, curent git repository is automatically commited. This ensures a reproducible snapshot of the code used to run the experiment. \n",
    "4. Initialized a tensorboardX `SummaryWriter`.\n",
    "5. Written a text log to tensorboard that has all initial experiment metadata and configuration, such as start time, host name, random seed, hyperparameters, etc. This can be a very useful when comparing multiple runs in tensorboard.\n",
    "6. If a `random_seed` is provided, we've set the random seed for python, numpy, and torch all at once.\n",
    "7. Dumped the config dictionary to file in the `log_dir` as `config.json`.\n",
    "8. Returned the summary writer and config dictionary, augmented with the `run_name`, `run_dir`, and `tag`.\n",
    "\n",
    "I've found this initialization strategy to be comprehensive enough for my needs, but I'm sure it could be better. Submit an issue or pull request if you have suggestions!"
   ]
  },
  {
   "cell_type": "markdown",
   "metadata": {},
   "source": [
    "Next we'll create a simple nonlinear 1-d regression in pytorch. It will take a scalar input x, run it through a nonlinear layer, and produce a scalar output.\n",
    "\n",
    "We'll train it to predict the sine function. $y = sin(x)$\n",
    "\n",
    "To do this, first we need some imports"
   ]
  },
  {
   "cell_type": "code",
   "execution_count": 3,
   "metadata": {},
   "outputs": [],
   "source": [
    "import torch\n",
    "import torch.nn as nn\n",
    "import torch.nn.functional as F\n",
    "import torch.optim as optim\n",
    "\n",
    "import matplotlib.pyplot as plt\n",
    "%matplotlib inline\n",
    "import seaborn as sb\n",
    "sb.set()"
   ]
  },
  {
   "cell_type": "markdown",
   "metadata": {},
   "source": [
    "We'll also generate some simple data."
   ]
  },
  {
   "cell_type": "code",
   "execution_count": 4,
   "metadata": {},
   "outputs": [
    {
     "data": {
      "image/png": "[encoded data removed]",
      "text/plain": [
       "<Figure size 432x288 with 1 Axes>"
      ]
     },
     "metadata": {},
     "output_type": "display_data"
    }
   ],
   "source": [
    "# Get inputs and gold outputs\n",
    "x = 2 * 3.1415 * torch.rand(100,1)\n",
    "y = x.sin()\n",
    "\n",
    "plt.scatter(x.numpy(), y.numpy())\n",
    "_ = plt.title('Gold Data')"
   ]
  },
  {
   "cell_type": "markdown",
   "metadata": {},
   "source": [
    "Next, we implement the model. Our model is a simple neural network with one hidden layer of dimension $H$. Mathematically we implement:\n",
    "\n",
    "$$\\hat{y} = W_2 tanh( W_1 x + b_1) $$\n",
    "where $W_1 \\in \\mathbb{R}^{H \\times 1}$, $b_1 \\in \\mathbb{R}^{H}$ and $W_2 \\in \\mathbb{R}^{1 \\times H}$, and $tanh$ is the elementwise hyperbolic tangent nonlinearity."
   ]
  },
  {
   "cell_type": "code",
   "execution_count": 5,
   "metadata": {},
   "outputs": [],
   "source": [
    "class Model(nn.Module):\n",
    "    def __init__(self, hidden_dim):\n",
    "        super().__init__()\n",
    "        self.encode = nn.Linear(1, hidden_dim)\n",
    "        self.decode = nn.Linear(hidden_dim, 1)\n",
    "        \n",
    "    def forward(self, x):\n",
    "        h = F.tanh(self.encode(x))\n",
    "        \n",
    "        # Monitor h if we can\n",
    "        if hasattr(self, 'monitor'):\n",
    "            self.monitor('h', h, track_data=True, track_grad=True)\n",
    "            \n",
    "        yhat = self.decode(h)\n",
    "        return yhat"
   ]
  },
  {
   "cell_type": "markdown",
   "metadata": {},
   "source": [
    "#### Monitoring intermediate computations\n",
    "\n",
    "It's often useful to monitor of the forward and backward passes on intermediate (non-leaf) nodes of model computation.  This can help qualify model behavior at key bottlenecks in complex architectures.\n",
    "\n",
    "With pytorch-monitor, any monitored module and all of its descendent submodules will be endowed with a `monitor` method having the signature:\n",
    "\n",
    "```python\n",
    "monitor(name, tensor, track_data=True, track_grad=True)\n",
    "```\n",
    "\n",
    "Once called on a tensor, the monitor method will automatically track the forward and backward pass on the tensor and log it as `<module_name>/<name>` in tensorboard.\n",
    "\n",
    "One final thing. Pytorch modules don't have the `monitor` method unless they or one of their ancestor modules has been wrapped with `monitor_module` (we'll get to that a little later.) So it is good practice to check that the method exists in your module so the code is compatible with non-monitored networks.\n",
    "\n",
    "In our code above, we monitor the hidden layer value $h = tanh( W_1 x + b_1)$ with:\n",
    "\n",
    "```python\n",
    "if hasattr(self, 'monitor'):\n",
    "    self.monitor('h', h, track_data=True, track_grad=True)\n",
    "```"
   ]
  },
  {
   "cell_type": "markdown",
   "metadata": {},
   "source": [
    "Next, we'll instantiate our network and its parameter optimizer, and finally we *monitor* it."
   ]
  },
  {
   "cell_type": "code",
   "execution_count": 6,
   "metadata": {},
   "outputs": [],
   "source": [
    "# Setup the model and optimizer to have 10 hidden units\n",
    "model = Model(10)\n",
    "optimizer  = optim.SGD(model.parameters(), lr = 0.01, momentum=0.9)\n",
    "\n",
    "# Enable monitoring\n",
    "monitor_module(model, writer, \n",
    "               track_data=True,\n",
    "               track_grad=True,\n",
    "               track_update=True,\n",
    "               track_update_ratio=True)"
   ]
  },
  {
   "cell_type": "markdown",
   "metadata": {},
   "source": [
    "#### Monitoring the module\n",
    "\n",
    "The `monitor_module` method is the meat of pytorch-monitor. It introspects the model and configures it to automatically log sensible histogram summaries of all parameters and `monitor`ed intermediate computations using the summary writer returned from `init_experiment`. \n",
    "\n",
    "It has the following signature:\n",
    "```python\n",
    "monitor_module(model, writer, \n",
    "               track_data=True,\n",
    "               track_grad=True,\n",
    "               track_update=True,\n",
    "               track_update_ratio=False)\n",
    "```\n",
    "\n",
    "Specifically, by using this function we have:\n",
    "1. Added extra datastructures and methods to the module, enabling it to properly manage its monitoring state.\n",
    "2. Added the `monitor` method to all submodules of the module, enabling the monitoring of intermediate computations.\n",
    "3. Registered function hooks on the parameters and monitored tensors of the module and its submodules. These allow for tensorboard summaries of the various tensors to be logged seamlessly to tensorboard. All `Parameters` are monitored according to the keyword arguments of `monitor_module`. All intermediate tensors are monitored according to their respective `monitor` keywords.\n",
    "\n",
    "The keyword arguments allow us to customize what we track about the parameters of the model. (Note: Currently we do not allow for tracking different aspects for different parameters, but could be an easy improvement.)\n",
    "\n",
    "Typically only `track_data` and `track_grad` are necessary, but sometimes it can be useful to monitor module update dynamics with `track_update` and `track_update_ratio`. Specifically, `track_update` will show the true difference in model parameter values from one step to the next. This can shed light on how complex optimizers (such as Adam) are actually affecting the model during training, where the gradient histograms can often be a misleading signal of training behavior because of other update variables like momentum."
   ]
  },
  {
   "cell_type": "code",
   "execution_count": 7,
   "metadata": {},
   "outputs": [
    {
     "name": "stdout",
     "output_type": "stream",
     "text": [
      "0 ...\n",
      "500 ...\n",
      "1000 ...\n",
      "1500 ...\n",
      "2000 ...\n",
      "2500 ...\n",
      "3000 ...\n",
      "3500 ...\n",
      "4000 ...\n"
     ]
    },
    {
     "data": {
      "image/png": "[encoded data removed]",
      "text/plain": [
       "<Figure size 864x288 with 2 Axes>"
      ]
     },
     "metadata": {},
     "output_type": "display_data"
    }
   ],
   "source": [
    "_, (ax0, ax1) = plt.subplots(1,2, figsize=(12,4))\n",
    "# Train the model for 4001 steps, recording its predictions every 2000\n",
    "losses = []\n",
    "ax1.scatter(x.numpy(), y.numpy(), label='Truth', s=25, marker='^')\n",
    "epochs = 4001\n",
    "for i in range(epochs):\n",
    "    if i == 0:\n",
    "        writer.add_graph(model, x)\n",
    "    if i % 500 == 0:\n",
    "        model.monitoring(True)\n",
    "        print(i,'...')\n",
    "    else:\n",
    "        model.monitoring(False)\n",
    "    yhat = model(x)\n",
    "    loss = ((yhat - y)**2).mean()\n",
    "    optimizer.zero_grad()\n",
    "    loss.backward()\n",
    "    optimizer.step()\n",
    "    losses.append(loss.item())\n",
    "    writer.add_scalar('train loss', loss.item(), i)\n",
    "    \n",
    "    if i % (epochs//2) == 0:\n",
    "        ax1.scatter(x.numpy(), yhat.detach().numpy(), label='Step {}'.format(i), s=20)\n",
    "\n",
    "ax0.plot(list(range(len(losses))), losses)\n",
    "ax0.set_title('Loss during training')\n",
    "ax1.set_title('Predictions During Training')\n",
    "_ = ax1.legend()"
   ]
  },
  {
   "cell_type": "code",
   "execution_count": null,
   "metadata": {},
   "outputs": [],
   "source": []
  }
 ],
 "metadata": {
  "kernelspec": {
   "display_name": "Python 3",
   "language": "python",
   "name": "python3"
  },
  "language_info": {
   "codemirror_mode": {
    "name": "ipython",
    "version": 3
   },
   "file_extension": ".py",
   "mimetype": "text/x-python",
   "name": "python",
   "nbconvert_exporter": "python",
   "pygments_lexer": "ipython3",
   "version": "3.6.3"
  }
 },
 "nbformat": 4,
 "nbformat_minor": 2
}
